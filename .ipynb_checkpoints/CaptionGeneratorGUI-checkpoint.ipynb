{
 "cells": [
  {
   "cell_type": "markdown",
   "id": "7fd5c481",
   "metadata": {},
   "source": [
    "\n",
    "# Image Caption Generator GUI\n"
   ]
  },
  {
   "cell_type": "code",
   "execution_count": 1,
   "id": "5b1162c6",
   "metadata": {},
   "outputs": [],
   "source": [
    "import numpy as np\n",
    "import string\n",
    "from tkinter import *\n",
    "from tkinter import filedialog\n",
    "import PIL.Image\n",
    "import PIL.ImageTk\n",
    "from tensorflow.keras.preprocessing.sequence import pad_sequences\n",
    "from tensorflow.keras.utils import to_categorical\n",
    "from tensorflow.keras.preprocessing.image import load_img, img_to_array\n",
    "from tensorflow.keras.models import load_model\n",
    "from pickle import load"
   ]
  },
  {
   "cell_type": "code",
   "execution_count": 2,
   "id": "f87cc691",
   "metadata": {},
   "outputs": [
    {
     "name": "stdout",
     "output_type": "stream",
     "text": [
      "WARNING:tensorflow:No training configuration found in the save file, so the model was *not* compiled. Compile it manually.\n"
     ]
    }
   ],
   "source": [
    "cnn_model = load_model(\"CNN_Model.h5\")\n",
    "rnn_model = load_model(\"RNN_Model.h5\")\n",
    "tokenizer = load(open(\"Tokenizer.p\", \"rb\"))\n",
    "word_to_index = tokenizer.word_index\n",
    "index_to_word = dict([index, word] for word, index in word_to_index.items())\n",
    "vocab_size = len(tokenizer.word_index) + 1\n",
    "max_len = 31"
   ]
  },
  {
   "cell_type": "code",
   "execution_count": 11,
   "id": "2c2813ab",
   "metadata": {},
   "outputs": [],
   "source": [
    "filename = None\n",
    "def chooseImage(event = None):\n",
    "    global filename\n",
    "    filename = filedialog.askopenfilename()\n",
    "    img = PIL.Image.open(filename)\n",
    "    img = img.resize((350, 300))\n",
    "    img = PIL.ImageTk.PhotoImage(img)\n",
    "    display_image = Label(root, image = img)\n",
    "    display_image.image = img\n",
    "    display_image.place(relx=0.4,rely=0.2)\n",
    "\n",
    "\n",
    "def generateCaption(event = None):\n",
    "    value = StringVar()\n",
    "    if(filename == None):\n",
    "        value.set(\"No Image Selected\")\n",
    "    else:\n",
    "        img = load_img(filename, target_size = (299, 299))\n",
    "        img = img_to_array(img)\n",
    "        img = np.expand_dims(img, axis = 0)\n",
    "        img = img / 127.5\n",
    "        img = img - 1.0\n",
    "        features = cnn_model.predict(img)\n",
    "        in_text = 'startseq'\n",
    "        for i in range(max_len):\n",
    "            sequence = tokenizer.texts_to_sequences([in_text])[0]\n",
    "            sequence = pad_sequences([sequence], maxlen=31)\n",
    "            pred = rnn_model.predict([features,sequence], verbose=0)\n",
    "            pred = np.argmax(pred)\n",
    "            word = index_to_word[pred]\n",
    "            if word is None:\n",
    "                break\n",
    "            in_text += ' ' + word\n",
    "            if word == 'endseq':\n",
    "                break\n",
    "        in_text = ' '.join(in_text.split()[1: -1])\n",
    "        in_text = in_text[0].upper() + in_text[1:] + '.'\n",
    "        value.set(in_text)\n",
    "    display_caption = Label(root, textvariable = value, font=(\"MS Serif\", 18), bg='#e1f4f3')\n",
    "    display_caption.place(relx = 0.48, rely = 0.85)"
   ]
  },
  {
   "cell_type": "code",
   "execution_count": 13,
   "id": "ce9fec78",
   "metadata": {},
   "outputs": [
    {
     "name": "stdout",
     "output_type": "stream",
     "text": [
      "1/1 [==============================] - 0s 141ms/step\n"
     ]
    }
   ],
   "source": [
    "root = Tk()\n",
    "root.title(\"Image Caption Generator\")\n",
    "root.state('zoomed')\n",
    "root['background']='#e1f4f3'\n",
    "root.attributes('-topmost', 1)\n",
    "root.resizable(width = True, height = True)\n",
    "\n",
    "panel = Label(root, text = 'IMAGE CAPTION GENERATOR', font = (\"MS Serif\", 30), bg='#e1f4f3', fg='#181818')\n",
    "panel.place(relx = 0.3, rely = 0.1)\n",
    "\n",
    "button1 = Button(root, text='Choose an Image', font=(\"MS Serif\", 18), activeforeground='red', bd=5, relief=RAISED, height=2, width=15, command = chooseImage, fg='white', bg='#181818') \n",
    "button1.place(relx = 0.3, rely = 0.65)\n",
    "button2 = Button(root, text='Generate Caption', font=(\"MS Serif\", 18), activeforeground = 'red', bd=5, relief=RAISED, height=2, width=15, command = generateCaption, fg='white', bg='#181818')\n",
    "button2.place(relx = 0.56, rely = 0.65)\n",
    "caption = Label(root, text='Caption :- ', font=(\"MS Serif\", 18), bg='#e1f4f3')\n",
    "caption.place(relx = 0.35, rely = 0.85)\n",
    "\n",
    "root.mainloop()"
   ]
  },
  {
   "cell_type": "code",
   "execution_count": null,
   "id": "e336ddc5",
   "metadata": {},
   "outputs": [],
   "source": []
  }
 ],
 "metadata": {
  "kernelspec": {
   "display_name": "Python 3 (ipykernel)",
   "language": "python",
   "name": "python3"
  },
  "language_info": {
   "codemirror_mode": {
    "name": "ipython",
    "version": 3
   },
   "file_extension": ".py",
   "mimetype": "text/x-python",
   "name": "python",
   "nbconvert_exporter": "python",
   "pygments_lexer": "ipython3",
   "version": "3.9.7"
  }
 },
 "nbformat": 4,
 "nbformat_minor": 5
}
